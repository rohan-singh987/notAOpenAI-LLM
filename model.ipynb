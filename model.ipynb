{
 "cells": [
  {
   "cell_type": "markdown",
   "metadata": {},
   "source": [
    "### Importing bunch of librarires"
   ]
  },
  {
   "cell_type": "code",
   "execution_count": 1,
   "metadata": {},
   "outputs": [
    {
     "name": "stderr",
     "output_type": "stream",
     "text": [
      "/Users/rohan/Desktop/Project/notAgpt-LLM/notGPT/lib/python3.10/site-packages/pinecone/index.py:4: TqdmWarning: IProgress not found. Please update jupyter and ipywidgets. See https://ipywidgets.readthedocs.io/en/stable/user_install.html\n",
      "  from tqdm.autonotebook import tqdm\n"
     ]
    }
   ],
   "source": [
    "# LLM and Langchain stuff\n",
    "import langchain\n",
    "from langchain.llms import gpt4all\n",
    "\n",
    "# Document loader and Splitting Text\n",
    "from langchain.document_loaders import PyPDFDirectoryLoader\n",
    "from langchain.text_splitter import RecursiveCharacterTextSplitter\n",
    "\n",
    "# Vector DB\n",
    "import pinecone\n",
    "from langchain.vectorstores import pinecone\n",
    "\n",
    "# Embedding\n",
    "from sentence_transformers import SentenceTransformer\n",
    "from InstructorEmbedding import INSTRUCTOR\n",
    "from langchain.embeddings import HuggingFaceInstructEmbeddings"
   ]
  },
  {
   "cell_type": "markdown",
   "metadata": {},
   "source": [
    "### Read the document"
   ]
  },
  {
   "cell_type": "code",
   "execution_count": 2,
   "metadata": {},
   "outputs": [],
   "source": [
    "def readDocument(dirr):\n",
    "    fileLoader = PyPDFDirectoryLoader(dirr)\n",
    "    doc = fileLoader.load()\n",
    "    return doc"
   ]
  },
  {
   "cell_type": "code",
   "execution_count": 17,
   "metadata": {},
   "outputs": [
    {
     "data": {
      "text/plain": [
       "21"
      ]
     },
     "execution_count": 17,
     "metadata": {},
     "output_type": "execute_result"
    }
   ],
   "source": [
    "doc = readDocument('doc/')\n",
    "len(doc)"
   ]
  },
  {
   "cell_type": "code",
   "execution_count": 18,
   "metadata": {},
   "outputs": [
    {
     "data": {
      "text/plain": [
       "[Document(page_content='Node.js Interview Questions\\nTo view the live version of the\\npage, click here.\\n© Copyright by Interviewbit', metadata={'source': 'doc/NODEJS.pdf', 'page': 0}),\n",
       " Document(page_content='Beginner Node.js Interview Questions\\n1.\\xa0\\xa0\\xa0What is a first class function in Javascript?\\n2.\\xa0\\xa0\\xa0What is Node.js and how it works?\\n3.\\xa0\\xa0\\xa0How do you manage packages in your node.js project?\\n4.\\xa0\\xa0\\xa0How is Node.js better than other frameworks most popularly used?\\n5.\\xa0\\xa0\\xa0Explain the steps how “Control Flow” controls the functions calls?\\n6.\\xa0\\xa0\\xa0What are some commonly used timing features of Node.js?\\n7.\\xa0\\xa0\\xa0What are the advantages of using promises instead of callbacks?\\n8.\\xa0\\xa0\\xa0What is fork in node JS?\\n9.\\xa0\\xa0\\xa0Why is Node.js single-threaded?\\n10.\\xa0\\xa0\\xa0How do you create a simple server in Node.js that returns Hello World?\\n11.\\xa0\\xa0\\xa0How many types of API functions are there in Node.js?\\n12.\\xa0\\xa0\\xa0What is REPL?\\n13.\\xa0\\xa0\\xa0List down the two arguments that async.queue takes as input?\\n14.\\xa0\\xa0\\xa0What is the purpose of module.exports?\\n15.\\xa0\\xa0\\xa0What tools can be used to assure consistent code style?\\nIntermediate Node.js Interview Questions\\n16.\\xa0\\xa0\\xa0What do you understand by callback hell?\\n17.\\xa0\\xa0\\xa0What is an event-loop in Node JS?\\n18.\\xa0\\xa0\\xa0If Node.js is single threaded then how does it handle concurrency?\\nPage 1 © Copyright by InterviewbitContents', metadata={'source': 'doc/NODEJS.pdf', 'page': 1}),\n",
       " Document(page_content='Node.js Interview Questions\\nIntermediate Node.js Interview\\nQuestions (.....Continued)\\n19.\\xa0\\xa0\\xa0Diﬀerentiate between process.nextTick() and setImmediate()?\\n20.\\xa0\\xa0\\xa0How does Node.js overcome the problem of blocking of I/O operations?\\n21.\\xa0\\xa0\\xa0How can we use async await in node.js?\\n22.\\xa0\\xa0\\xa0What is node.js streams?\\n23.\\xa0\\xa0\\xa0What are node.js buﬀers?\\n24.\\xa0\\xa0\\xa0What is middleware?\\n25.\\xa0\\xa0\\xa0Explain what a Reactor Pattern in Node.js?\\n26.\\xa0\\xa0\\xa0Why should you separate Express app and server?\\n27.\\xa0\\xa0\\xa0For Node.js, why Google uses V8 engine?\\n28.\\xa0\\xa0\\xa0Describe the exit codes of Node.js?\\n29.\\xa0\\xa0\\xa0Explain the concept of stub in Node.js?\\nAdvanced Node.js Interview Questions\\n30.\\xa0\\xa0\\xa0What is an Event Emitter in Node.js?\\n31.\\xa0\\xa0\\xa0Enhancing Node.js performance through clustering.\\n32.\\xa0\\xa0\\xa0What is a thread pool and which library handles it in Node.js\\n33.\\xa0\\xa0\\xa0What is WASI and why is it being introduced?\\n34.\\xa0\\xa0\\xa0How are worker threads diﬀerent from clusters?\\n35.\\xa0\\xa0\\xa0How to measure the duration of async operations?\\n36.\\xa0\\xa0\\xa0How to measure the performance of async operations?\\nPage 2 © Copyright by Interviewbit', metadata={'source': 'doc/NODEJS.pdf', 'page': 2}),\n",
       " Document(page_content=\"Premise\\n“Any application that can be written in JavaScript, will eventually be written in\\nJavaScript.” -Jeff Atwood    \\xa0 \\xa0 \\xa0 \\xa0 \\xa0 \\xa0 \\xa0 \\xa0 \\xa0 \\xa0 \\xa0 \\xa0 \\xa0 \\xa0 \\xa0\\nThis was said back in 2007, and we can say that it is proving true till now. You can\\nthink of any technical keyword and there might be a JavaScript library build around\\nit. So if it’s so popular and in demand, this can be a great programming language to\\nlearn. But that’s not the only skill that is required, since you have to apply this to\\nsolve practical problems. And one of such problems is to build scalable products.\\nGen Z backend\\nA\\x00er jQuery animation dev shi\\x00ed to a single page application for better control of\\nui/ux and thus came frontend frameworks such as angular js and angular. A\\x00er that\\nJavaScript was made available to port into literally any modern machine that exists\\nand runs as a standalone application i.e Node.js. It was widely accepted as a backend\\nframework and comes to the top, 2nd year in a row in 2020 of StackOverflow survey.\\xa0\\nAs developers are busy getting an experience in node.js it’s nice to have a curated list\\nof Node.js interview questions to revise. Also, to further consolidate your\\nknowledge on Javascript, refer to this source.\\nBeginner Node.js Interview Questions\\n1.\\xa0\\xa0\\xa0What is a first class function in Javascript?\\nPage 3 © Copyright by InterviewbitLet's get Started\", metadata={'source': 'doc/NODEJS.pdf', 'page': 3}),\n",
       " Document(page_content='Node.js Interview Questions\\nWhen functions can be treated like any other variable then those functions are first-\\nclass functions. There are many other programming languages, for example, scala,\\nHaskell, etc which follow this including JS. Now because of this function can be\\npassed as a param to another function(callback) or a function can return another\\nfunction(higher-order function). map() and filter() are higher-order functions that are\\npopularly used.\\n2.\\xa0\\xa0\\xa0What is Node.js and how it works?\\nNode.js is a virtual machine that uses JavaScript as its scripting language and runs\\nChrome’s V8 JavaScript engine. Basically, Node.js is based on an event-driven\\narchitecture where I/O runs asynchronously making it lightweight and eﬀicient. It is\\nbeing used in developing desktop applications as well with a popular framework\\ncalled electron as it provides API to access OS-level features such as file system,\\nnetwork, etc.\\n3.\\xa0\\xa0\\xa0How do you manage packages in your node.js project?\\nIt can be managed by a number of package installers and their configuration file\\naccordingly. Out of them mostly use npm or yarn. Both provide almost all libraries of\\njavascript with extended features of controlling environment-specific configurations.\\nTo maintain versions of libs being installed in a project we use package.json and\\npackage-lock.json so that there is no issue in porting that app to a diﬀerent\\nenvironment.\\n4.\\xa0\\xa0\\xa0How is Node.js better than other frameworks most popularly\\nused?\\nPage 4 © Copyright by Interviewbit', metadata={'source': 'doc/NODEJS.pdf', 'page': 4}),\n",
       " Document(page_content='Node.js Interview Questions\\nNode.js provides simplicity in development because of its non-blocking I/O and\\neven-based model results in short response time and concurrent processing,\\nunlike other frameworks where developers have to use thread management.\\xa0\\n\\xa0\\nIt runs on a chrome v8 engine which is written in c++ and is highly performant\\nwith constant improvement.\\xa0\\n\\xa0\\nAlso since we will use Javascript in both the frontend and backend the\\ndevelopment will be much faster.\\xa0\\n\\xa0\\nAnd at last, there are ample libraries so that we don’t need to reinvent the\\nwheel.\\n5.\\xa0\\xa0\\xa0Explain the steps how “Control Flow” controls the functions\\ncalls?\\nControl the order of execution\\nCollect data\\nLimit concurrency\\nCall the following step in the program.\\n6.\\xa0\\xa0\\xa0What are some commonly used timing features of Node.js?\\nsetTimeout/clearTimeout – This is used to implement delays in code\\nexecution.\\nsetInterval/clearInterval – This is used to run a code block multiple times.\\nsetImmediate/clearImmediate – This is used to set the execution of the code\\nat the end of the event loop cycle.\\nprocess.nextTick – This is used to set the execution of code at the beginning of\\nthe next event loop cycle.\\n7.\\xa0\\xa0\\xa0What are the advantages of using promises instead of\\ncallbacks?\\nPage 5 © Copyright by Interviewbit', metadata={'source': 'doc/NODEJS.pdf', 'page': 5}),\n",
       " Document(page_content='Node.js Interview Questions\\nThe main advantage of using promise is you get an object to decide the action that\\nneeds to be taken a\\x00er the async task completes. This gives more manageable code\\nand avoids callback hell.\\n8.\\xa0\\xa0\\xa0What is fork in node JS?\\nA fork in general is used to spawn child processes. In node it is used to create a new\\ninstance of v8 engine to run multiple workers to execute the code.\\n9.\\xa0\\xa0\\xa0Why is Node.js single-threaded?\\nNode.js was created explicitly as an experiment in async processing. This was to try a\\nnew theory of doing async processing on a single thread over the existing thread-\\nbased implementation of scaling via diﬀerent frameworks.\\n10.\\xa0\\xa0\\xa0How do you create a simple server in Node.js that returns\\nHello World?\\nvar http = require(\"http\"); \\nhttp.createServer(function (request, response) { \\n  response.writeHead(200, {\\'Content-Type\\': \\'text/plain\\'}); \\n  response.end(\\'Hello World\\\\n\\'); \\n}).listen(3000);\\n\\xa0\\n11.\\xa0\\xa0\\xa0How many types of API functions are there in Node.js?\\nThere are two types of API functions:\\nAsynchronous, non-blocking functions - mostly I/O operations which can be\\nfork out of the main loop.\\n\\xa0\\nSynchronous, blocking functions - mostly operations that influence the\\nprocess running in the main loop.\\n12.\\xa0\\xa0\\xa0What is REPL?\\nPL in Node.js stands for Read, Eval, Print, and Loop, which further means evaluating\\ncodeonthego\\nPage 6 © Copyright by Interviewbit', metadata={'source': 'doc/NODEJS.pdf', 'page': 6}),\n",
       " Document(page_content='Node.js Interview Questions\\n13.\\xa0\\xa0\\xa0List down the two arguments that async.queue takes as\\ninput?\\nTask Function\\nConcurrency Value\\n14.\\xa0\\xa0\\xa0What is the purpose of module.exports?\\nThis is used to expose functions of a particular module or file to be used elsewhere in\\nthe project. This can be used to encapsulate all similar functions in a file which\\nfurther improves the project structure.\\nFor example, you have a file for all utils functions with util to get solutions in a\\ndiﬀerent programming language of a problem statement.\\nconst getSolutionInJavaScript = async ({ \\n problem_id \\n}) => { \\n... \\n}; \\nconst getSolutionInPython = async ({ \\n problem_id \\n}) => { \\n... \\n}; \\nmodule.exports = { getSolutionInJavaScript, getSolutionInPython }\\nThus using module.exports we can use these functions in some other file:\\nconst { getSolutionInJavaScript, getSolutionInPython} = require(\"./utils\")\\n15.\\xa0\\xa0\\xa0What tools can be used to assure consistent code style?\\nESLint can be used with any IDE to ensure a consistent coding style which further\\nhelps in maintaining the codebase.\\xa0\\nIntermediate Node.js Interview Questions\\n16.\\xa0\\xa0\\xa0What do you understand by callback hell?\\nPage 7 © Copyright by Interviewbit', metadata={'source': 'doc/NODEJS.pdf', 'page': 7}),\n",
       " Document(page_content='Node.js Interview Questions\\nasync_A(function(){ \\n   async_B(function(){ \\n       async_C(function(){ \\n           async_D(function(){ \\n           .... \\n           }); \\n       }); \\n   }); \\n});\\nFor the above example, we are passing callback functions and it makes the code\\nunreadable and not maintainable, thus we should change the async logic to avoid\\nthis.\\n17.\\xa0\\xa0\\xa0What is an event-loop in Node JS?\\nWhatever that is async is managed by event-loop using a queue and listener. \\xa0We can\\nget the idea using the following diagram:\\nNode.js Event Loop\\nPage 8 © Copyright by Interviewbit', metadata={'source': 'doc/NODEJS.pdf', 'page': 8}),\n",
       " Document(page_content='Node.js Interview Questions\\nSo when an async function needs to be executed(or I/O) the main thread sends it to a\\ndiﬀerent thread allowing v8 to keep executing the main code. Event loop involves\\ndiﬀerent phases with specific tasks such as timers, pending callbacks, idle or prepare,\\npoll, check, close callbacks with diﬀerent FIFO queues. Also in between iterations it\\nchecks for async I/O or timers and shuts down cleanly if there aren\\'t any.\\n18.\\xa0\\xa0\\xa0If Node.js is single threaded then how does it handle\\nconcurrency?\\nThe main loop is single-threaded and all async calls are managed by libuv library.\\nFor example:\\nconst crypto = require(\"crypto\"); \\nconst start = Date.now(); \\nfunction logHashTime() { \\n crypto.pbkdf2(\"a\", \"b\", 100000, 512, \"sha512\", () => { \\nconsole.log(\"Hash: \", Date.now() - start); \\n }); \\n} \\nlogHashTime(); \\nlogHashTime(); \\nlogHashTime(); \\nlogHashTime();\\nThis gives the output:\\nHash: 1213\\nHash: 1225\\nHash: 1212\\nHash: 1222\\nThis is because libuv sets up a thread pool to handle such concurrency. How many\\nthreads will be there in the thread pool depends upon the number of cores but you\\ncan override this.\\n19.\\xa0\\xa0\\xa0Diﬀerentiate between process.nextTick() and\\nsetImmediate()?\\nPage 9 © Copyright by Interviewbit', metadata={'source': 'doc/NODEJS.pdf', 'page': 9}),\n",
       " Document(page_content='Node.js Interview Questions\\nBoth can be used to switch to an asynchronous mode of operation by listener\\nfunctions.\\xa0\\nprocess.nextTick() sets the callback to execute but setImmediate pushes the callback\\nin the queue to be executed. So the event loop runs in the following manner\\ntimers–>pending callbacks–>idle,prepare–>connections(poll,data,etc)–>check–\\n>close callbacks\\nIn this process.nextTick() method adds the callback function to the start of the next\\nevent queue and setImmediate() method to place the function in the check phase of\\nthe next event queue.\\n20.\\xa0\\xa0\\xa0How does Node.js overcome the problem of blocking of I/O\\noperations?\\nSince the node has an event loop that can be used to handle all the I/O operations in\\nan asynchronous manner without blocking the main function.\\xa0\\nSo for example, if some network call needs to happen it will be scheduled in the\\nevent loop instead of the main thread(single thread). And if there are multiple such\\nI/O calls each one will be queued accordingly to be executed separately(other than\\nthe main thread).\\xa0\\nThus even though we have single-threaded JS, I/O ops are handled in a nonblocking\\nway.\\n21.\\xa0\\xa0\\xa0How can we use async await in node.js?\\nHere is an example of using async-await pattern:\\nPage 10 © Copyright by Interviewbit', metadata={'source': 'doc/NODEJS.pdf', 'page': 10}),\n",
       " Document(page_content=\"Node.js Interview Questions\\n// this code is to retry with exponential backoff\\nfunction wait (timeout) { \\n return new Promise((resolve) => { \\nsetTimeout(() => { \\n  resolve() \\n}, timeout); \\n }); \\n} \\nasync function requestWithRetry (url) { \\n const MAX_RETRIES = 10; \\n for (let i = 0; i <= MAX_RETRIES; i++) { \\ntry { \\n  return await request(url); \\n} catch (err) { \\n  const timeout = Math.pow(2, i); \\n  console.log('Waiting', timeout, 'ms'); \\n  await wait(timeout); \\n  console.log('Retrying', err.message, i); \\n} \\n } \\n}\\n22.\\xa0\\xa0\\xa0What is node.js streams?\\nStreams are instances of EventEmitter which can be used to work with streaming\\ndata in Node.js. They can be used for handling and manipulating streaming large\\nfiles(videos, mp3, etc) over the network. They use buﬀers as their temporary storage.\\nThere are mainly four types of the stream:\\nWritable: streams to which data can be written (for example,\\nfs.createWriteStream()).\\nReadable: streams from which data can be read (for example,\\nfs.createReadStream()).\\nDuplex: streams that are both Readable and Writable (for example, net.Socket).\\nTransform: Duplex streams that can modify or transform the data as it is written\\nand read (for example, zlib.createDeflate()).\\n23.\\xa0\\xa0\\xa0What are node.js buﬀers?\\nPage 11 © Copyright by Interviewbit\", metadata={'source': 'doc/NODEJS.pdf', 'page': 11}),\n",
       " Document(page_content='Node.js Interview Questions\\nIn general, buﬀers is a temporary memory that is mainly used by stream to hold on to\\nsome data until consumed. Buﬀers are introduced with additional use cases than\\nJavaScript’s Unit8Array and are mainly used to represent a fixed-length sequence of\\nbytes. This also supports legacy encodings like ASCII, utf-8, etc. It is a fixed(non-\\nresizable) allocated memory outside the v8.\\n24.\\xa0\\xa0\\xa0What is middleware?\\nMiddleware comes in between your request and business logic. It is mainly used to\\ncapture logs and enable rate limit, routing, authentication, basically whatever that is\\nnot a part of business logic. There are third-party middleware also such as body-\\nparser and you can write your own middleware for a specific use case.\\n25.\\xa0\\xa0\\xa0Explain what a Reactor Pattern in Node.js?\\nReactor pattern again a pattern for nonblocking I/O operations. But in general, this is\\nused in any event-driven architecture.\\xa0\\nThere are two components in this: 1. Reactor 2. Handler.\\nReactor: Its job is to dispatch the I/O event to appropriate handlers\\nHandler: Its job is to actually work on those events\\n26.\\xa0\\xa0\\xa0Why should you separate Express app and server?\\nThe server is responsible for initializing the routes, middleware, and other\\napplication logic whereas the app has all the business logic which will be served by\\nthe routes initiated by the server. This ensures that the business logic is encapsulated\\nand decoupled from the application logic which makes the project more readable\\nand maintainable.\\n27.\\xa0\\xa0\\xa0For Node.js, why Google uses V8 engine?\\nWell, are there any other options available? Yes, of course, we have Spidermonkey\\nfrom Firefox, Chakra from Edge but Google’s v8 is the most evolved(since it’s open-\\nsource so there’s a huge community helping in developing features and fixing bugs)\\nand fastest(since it’s written in c++) we got till now as a JavaScript and WebAssembly\\nengine. And it is portable to almost every machine known.\\nPage 12 © Copyright by Interviewbit', metadata={'source': 'doc/NODEJS.pdf', 'page': 12}),\n",
       " Document(page_content='Node.js Interview Questions\\n28.\\xa0\\xa0\\xa0Describe the exit codes of Node.js?\\nExit codes give us an idea of how a process got terminated/the reason behind\\ntermination.\\xa0\\nA few of them are:\\nUncaught fatal exception - (code - 1) - There has been an exception that is not\\nhandled\\nUnused - (code - 2) - This is reserved by bash\\nFatal Error - (code - 5) - There has been an error in V8 with stderr output of the\\ndescription\\nInternal Exception handler Run-time failure - (code - 7) - There has been an\\nexception when bootstrapping function was called\\nInternal JavaScript Evaluation Failure - (code - 4) - There has been an exception\\nwhen the bootstrapping process failed to return function value when evaluated.\\n29.\\xa0\\xa0\\xa0Explain the concept of stub in Node.js?\\nStubs are used in writing tests which are an important part of development. It\\nreplaces the whole function which is getting tested. \\xa0\\nThis helps in scenarios where we need to test:\\nExternal calls which make tests slow and diﬀicult to write (e.g HTTP calls/ DB\\ncalls)\\nTriggering diﬀerent outcomes for a piece of code (e.g. what happens if an error is\\nthrown/ if it passes)\\nFor example, this is the function:\\nPage 13 © Copyright by Interviewbit', metadata={'source': 'doc/NODEJS.pdf', 'page': 13}),\n",
       " Document(page_content='Node.js Interview Questions\\nPage 14 © Copyright by Interviewbitconst request = require(\\'request\\'); \\nconst getPhotosByAlbumId = (id) => { \\nconst requestUrl = `https://jsonplaceholder.typicode.com/albums/${id}/photos?_limit=3`;\\nreturn new Promise((resolve, reject) => { \\n    request.get(requestUrl, (err, res, body) => { \\n        if (err) { \\n            return reject(err); \\n        } \\n        resolve(JSON.parse(body)); \\n    }); \\n}); \\n}; \\nmodule.exports = getPhotosByAlbumId; \\nTo test this function this is the stub\\nconst expect = require(\\'chai\\').expect; \\nconst request = require(\\'request\\'); \\nconst sinon = require(\\'sinon\\'); \\nconst getPhotosByAlbumId = require(\\'./index\\'); \\ndescribe(\\'with Stub: getPhotosByAlbumId\\', () => { \\nbefore(() => { \\n    sinon.stub(request, \\'get\\') \\n        .yields(null, null, JSON.stringify([ \\n            { \\n                \"albumId\": 1, \\n                \"id\": 1, \\n                \"title\": \"A real photo 1\", \\n                \"url\": \"https://via.placeholder.com/600/92c952\", \\n                \"thumbnailUrl\": \"https://via.placeholder.com/150/92c952\" \\n            }, \\n            { \\n                \"albumId\": 1, \\n                \"id\": 2, \\n                \"title\": \"A real photo 2\", \\n                \"url\": \"https://via.placeholder.com/600/771796\", \\n                \"thumbnailUrl\": \"https://via.placeholder.com/150/771796\" \\n            }, \\n            { \\n                \"albumId\": 1, \\n                \"id\": 3, \\n                \"title\": \"A real photo 3\", \\n                \"url\": \"https://via.placeholder.com/600/24f355\", \\n                \"thumbnailUrl\": \"https://via.placeholder.com/150/24f355\" \\n            } \\n        ])); \\n}); \\nafter(() => { \\n    request.get.restore(); \\n}); \\nit(\\'should getPhotosByAlbumId\\', (done) => { \\n    getPhotosByAlbumId(1).then((photos) => { \\n        expect(photos.length).to.equal(3); \\n        photos.forEach(photo => { \\n            expect(photo).to.have.property(\\'id\\'); \\n            expect(photo).to.have.property(\\'title\\'); \\n            expect(photo).to.have.property(\\'url\\'); \\n        }); \\n        done(); \\n})', metadata={'source': 'doc/NODEJS.pdf', 'page': 14}),\n",
       " Document(page_content=\"Node.js Interview Questions\\nAdvanced Node.js Interview Questions\\n30.\\xa0\\xa0\\xa0What is an Event Emitter in Node.js?\\nEventEmitter is a Node.js class that includes all the objects that are basically capable\\nof emitting events. This can be done by attaching named events that are emitted by\\nthe object using an eventEmitter.on() function. Thus whenever this object throws an\\neven the attached functions are invoked synchronously.\\nconst EventEmitter = require('events'); \\nclass MyEmitter extends EventEmitter {} \\nconst myEmitter = new MyEmitter(); \\nmyEmitter.on('event', () => { \\n console.log('an event occurred!'); \\n}); \\nmyEmitter.emit('event');\\n31.\\xa0\\xa0\\xa0Enhancing Node.js performance through clustering.\\nNode.js applications run on a single processor, which means that by default they\\ndon’t take advantage of a multiple-core system. Cluster mode is used to start up\\nmultiple node.js processes thereby having multiple instances of the event loop.\\nWhen we start using cluster in a nodejs app behind the scene multiple node.js\\nprocesses are created but there is also a parent process called the cluster manager\\nwhich is responsible for monitoring the health of the individual instances of our\\napplication.\\nPage 15 © Copyright by Interviewbit\", metadata={'source': 'doc/NODEJS.pdf', 'page': 15}),\n",
       " Document(page_content='Node.js Interview Questions\\nClustering in Node.js\\n32.\\xa0\\xa0\\xa0What is a thread pool and which library handles it in Node.js\\nThe Thread pool is handled by the libuv library. libuv is a multi-platform C library that\\nprovides support for asynchronous I/O-based operations such as file systems,\\nnetworking, and concurrency.\\xa0\\nThread Pool\\n33.\\xa0\\xa0\\xa0What is WASI and why is it being introduced?\\nPage 16 © Copyright by Interviewbit', metadata={'source': 'doc/NODEJS.pdf', 'page': 16}),\n",
       " Document(page_content=\"Node.js Interview Questions\\nWeb assembly provides an implementation of WebAssembly System Interface\\nspecification through WASI API in node.js implemented using WASI class. The\\nintroduction of WASI was done by keeping in mind its possible to use the underlying\\noperating system via a collection of POSIX-like functions thus further enabling the\\napplication to use resources more eﬀiciently and features that require system-level\\naccess.\\n34.\\xa0\\xa0\\xa0How are worker threads diﬀerent from clusters?\\nCluster:\\nThere is one process on each CPU with an IPC to communicate.\\nIn case we want to have multiple servers accepting HTTP requests via a single\\nport, clusters can be helpful.\\nThe processes are spawned in each CPU thus will have separate memory and\\nnode instance which further will lead to memory issues.\\nWorker threads:\\nThere is only one process in total with multiple threads.\\nEach thread has one Node instance (one event loop, one JS engine) with most of\\nthe APIs accessible.\\nShares memory with other threads (e.g. SharedArrayBuﬀer)\\nThis can be used for CPU-intensive tasks like processing data or accessing the file\\nsystem since NodeJS is single-threaded, synchronous tasks can be made more\\neﬀicient leveraging the worker's threads.\\n35.\\xa0\\xa0\\xa0How to measure the duration of async operations?\\nPerformance API provides us with tools to figure out the necessary performance\\nmetrics. A simple example would be using async_hooks and perf_hooks\\nPage 17 © Copyright by Interviewbit\", metadata={'source': 'doc/NODEJS.pdf', 'page': 17}),\n",
       " Document(page_content=\"Node.js Interview Questions\\n'use strict'; \\nconst async_hooks = require('async_hooks'); \\nconst { \\n performance, \\n PerformanceObserver \\n} = require('perf_hooks'); \\nconst set = new Set(); \\nconst hook = async_hooks.createHook({ \\n init(id, type) { \\nif (type === 'Timeout') { \\n  performance.mark(`Timeout-${id}-Init`); \\n  set.add(id); \\n} \\n }, \\n destroy(id) { \\nif (set.has(id)) { \\n  set.delete(id); \\n  performance.mark(`Timeout-${id}-Destroy`); \\n  performance.measure(`Timeout-${id}`, \\n                      `Timeout-${id}-Init`, \\n                      `Timeout-${id}-Destroy`); \\n} \\n } \\n}); \\nhook.enable(); \\nconst obs = new PerformanceObserver((list, observer) => { \\n console.log(list.getEntries()[0]); \\n performance.clearMarks(); \\n observer.disconnect(); \\n}); \\nobs.observe({ entryTypes: ['measure'], buffered: true }); \\nsetTimeout(() => {}, 1000);\\nThis would give us the exact time it took to execute the callback.\\n36.\\xa0\\xa0\\xa0How to measure the performance of async operations?\\nPerformance API provides us with tools to figure out the necessary performance\\nmetrics.\\xa0\\nA simple example would be:\\nPage 18 © Copyright by Interviewbit\", metadata={'source': 'doc/NODEJS.pdf', 'page': 18}),\n",
       " Document(page_content=\"Node.js Interview Questions\\nconst { PerformanceObserver, performance } = require('perf_hooks'); \\nconst obs = new PerformanceObserver((items) => { \\n console.log(items.getEntries()[0].duration); \\n performance.clearMarks(); \\n}); \\nobs.observe({ entryTypes: ['measure'] }); \\nperformance.measure('Start to Now'); \\nperformance.mark('A'); \\ndoSomeLongRunningProcess(() => { \\n performance.measure('A to Now', 'A'); \\n performance.mark('B'); \\n performance.measure('A to B', 'A', 'B'); \\n});\\nPage 19 © Copyright by Interviewbit\", metadata={'source': 'doc/NODEJS.pdf', 'page': 19}),\n",
       " Document(page_content='C Interview Questions Php Interview Questions C Sharp Interview Questions\\nWeb Api Interview\\nQuestionsHibernate Interview\\nQuestionsNode Js Interview Questions\\nCpp Interview Questions Oops Interview Questions Devops Interview Questions\\nMachine Learning Interview\\nQuestionsDocker Interview Questions Mysql Interview Questions\\nCss Interview Questions Laravel Interview Questions Asp Net Interview Questions\\nDjango Interview Questions Dot Net Interview Questions Kubernetes Interview\\nQuestions\\nOperating System Interview\\nQuestionsReact Native Interview\\nQuestionsAws Interview Questions\\nGit Interview Questions Java 8 Interview Questions Mongodb Interview\\nQuestions\\nDbms Interview Questions Spring Boot Interview\\nQuestionsPower Bi Interview Questions\\nPl Sql Interview Questions Tableau Interview\\nQuestionsLinux Interview Questions\\nAnsible Interview Questions Java Interview Questions Jenkins Interview Questions\\nPage 20 © Copyright by InterviewbitLinks to More Interview\\nQuestions', metadata={'source': 'doc/NODEJS.pdf', 'page': 20})]"
      ]
     },
     "execution_count": 18,
     "metadata": {},
     "output_type": "execute_result"
    }
   ],
   "source": [
    "doc"
   ]
  },
  {
   "cell_type": "markdown",
   "metadata": {},
   "source": [
    "### Split document into small chunks"
   ]
  },
  {
   "cell_type": "code",
   "execution_count": 13,
   "metadata": {},
   "outputs": [],
   "source": [
    "def docIntoChunk(document, chunk_size=800, chunk_overlap=50):\n",
    "    text_splitter=RecursiveCharacterTextSplitter(chunk_size=chunk_size,chunk_overlap=chunk_overlap)\n",
    "    doc=text_splitter.split_documents(document)\n",
    "    return doc"
   ]
  },
  {
   "cell_type": "code",
   "execution_count": 19,
   "metadata": {},
   "outputs": [],
   "source": [
    "documents = docIntoChunk(document=doc)"
   ]
  },
  {
   "cell_type": "code",
   "execution_count": 20,
   "metadata": {},
   "outputs": [
    {
     "data": {
      "text/plain": [
       "40"
      ]
     },
     "execution_count": 20,
     "metadata": {},
     "output_type": "execute_result"
    }
   ],
   "source": [
    "len(documents)"
   ]
  },
  {
   "cell_type": "markdown",
   "metadata": {},
   "source": [
    "### Embedding"
   ]
  },
  {
   "cell_type": "code",
   "execution_count": 21,
   "metadata": {},
   "outputs": [
    {
     "name": "stderr",
     "output_type": "stream",
     "text": [
      ".gitattributes: 100%|██████████| 1.18k/1.18k [00:00<00:00, 1.72MB/s]\n",
      "1_Pooling/config.json: 100%|██████████| 190/190 [00:00<00:00, 667kB/s]\n",
      "README.md: 100%|██████████| 10.6k/10.6k [00:00<00:00, 17.5MB/s]\n",
      "config.json: 100%|██████████| 612/612 [00:00<00:00, 1.15MB/s]\n",
      "config_sentence_transformers.json: 100%|██████████| 116/116 [00:00<00:00, 405kB/s]\n",
      "data_config.json: 100%|██████████| 39.3k/39.3k [00:00<00:00, 208kB/s]\n",
      "pytorch_model.bin: 100%|██████████| 90.9M/90.9M [00:25<00:00, 3.57MB/s]\n",
      "sentence_bert_config.json: 100%|██████████| 53.0/53.0 [00:00<00:00, 64.4kB/s]\n",
      "special_tokens_map.json: 100%|██████████| 112/112 [00:00<00:00, 150kB/s]\n",
      "tokenizer.json: 100%|██████████| 466k/466k [00:00<00:00, 787kB/s]\n",
      "tokenizer_config.json: 100%|██████████| 350/350 [00:00<00:00, 769kB/s]\n",
      "train_script.py: 100%|██████████| 13.2k/13.2k [00:00<00:00, 10.7MB/s]\n",
      "vocab.txt: 100%|██████████| 232k/232k [00:00<00:00, 533kB/s]\n",
      "modules.json: 100%|██████████| 349/349 [00:00<00:00, 744kB/s]\n"
     ]
    },
    {
     "data": {
      "text/plain": [
       "SentenceTransformer(\n",
       "  (0): Transformer({'max_seq_length': 256, 'do_lower_case': False}) with Transformer model: BertModel \n",
       "  (1): Pooling({'word_embedding_dimension': 384, 'pooling_mode_cls_token': False, 'pooling_mode_mean_tokens': True, 'pooling_mode_max_tokens': False, 'pooling_mode_mean_sqrt_len_tokens': False})\n",
       "  (2): Normalize()\n",
       ")"
      ]
     },
     "execution_count": 21,
     "metadata": {},
     "output_type": "execute_result"
    }
   ],
   "source": [
    "embedding = SentenceTransformer('all-MiniLM-L6-v2')\n",
    "embedding\n"
   ]
  },
  {
   "cell_type": "code",
   "execution_count": 24,
   "metadata": {},
   "outputs": [
    {
     "name": "stdout",
     "output_type": "stream",
     "text": [
      "[-2.73949578e-02  9.53443125e-02  1.34449974e-02 -3.70028801e-02\n",
      " -3.86600452e-03  4.48064022e-02  6.55440763e-02 -8.27802718e-02\n",
      "  1.79681275e-02  3.87205416e-03 -2.00292356e-02 -9.01242271e-02\n",
      "  4.70864959e-02 -8.23198408e-02  4.72266935e-02 -6.78705126e-02\n",
      " -1.31075624e-02  9.27465130e-03  7.09793791e-02 -1.38876334e-01\n",
      " -4.97406833e-02  2.98134014e-02 -1.70937628e-02 -2.83141285e-02\n",
      " -5.88037781e-02  1.04672564e-02  1.60903912e-02 -5.13635799e-02\n",
      " -5.42719439e-02 -1.26373217e-01  1.57906599e-02  4.64421064e-02\n",
      " -8.28607678e-02 -1.00579327e-02 -8.88630599e-02 -1.18072075e-03\n",
      " -2.23248322e-02  3.39737423e-02 -4.74631414e-02 -2.29368601e-02\n",
      "  1.14889378e-02 -3.41931768e-02  2.84699202e-02 -1.38607115e-01\n",
      "  3.75299975e-02 -8.84197950e-02 -7.02269524e-02 -5.56514524e-02\n",
      "  4.19602245e-02  2.11821385e-02 -6.11359961e-02  6.14755118e-05\n",
      " -1.85231548e-02 -1.85014028e-02  9.40959603e-02 -9.43906829e-02\n",
      "  3.55852954e-02 -3.74081619e-02  1.82257313e-02  2.50587184e-02\n",
      " -2.66539659e-02  5.74460551e-02 -2.60572676e-02 -5.30517064e-02\n",
      "  1.79435872e-02 -1.88189015e-01  4.96556461e-02 -3.23502254e-03\n",
      " -4.80340868e-02  7.12104365e-02 -3.28569021e-03  3.76715139e-02\n",
      "  5.08705936e-02 -4.66092676e-02  2.30946094e-02 -4.70843613e-02\n",
      "  3.10812965e-02 -2.91159209e-02  6.79609999e-02 -4.97041754e-02\n",
      " -7.93205760e-03  3.69242504e-02 -1.38235250e-02  1.43485563e-02\n",
      " -4.82915789e-02 -1.04053710e-02 -2.04753224e-02  5.92003874e-02\n",
      "  3.76028232e-02 -1.95607059e-02 -1.07805524e-02  1.47233820e-02\n",
      " -8.94097760e-02  6.44581318e-02 -8.12147036e-02 -8.56432784e-03\n",
      " -6.29299786e-03 -1.14019085e-02 -5.92580140e-02  1.27202198e-01\n",
      "  2.24286448e-02  2.55985884e-03  4.31265794e-02 -4.17402722e-02\n",
      " -3.90124843e-02  1.18963132e-02  1.43750506e-02 -1.32815691e-03\n",
      "  4.64958027e-02 -2.68369261e-02 -4.86989692e-03  1.75201427e-02\n",
      " -7.88065717e-02 -2.58229841e-02 -5.77668063e-02 -2.71877367e-02\n",
      " -4.04310487e-02 -5.51912375e-02 -5.87448068e-02 -8.55984539e-02\n",
      "  1.12056043e-02  4.91090082e-02  2.60608774e-02  1.98915824e-02\n",
      " -8.86326581e-02 -4.78226803e-02 -5.65814525e-02 -7.87924221e-34\n",
      " -2.49769110e-02 -4.55618426e-02  1.43136367e-01 -3.48046906e-02\n",
      " -1.30990418e-02 -5.78777902e-02 -3.64007726e-02 -4.85731987e-03\n",
      " -6.72418252e-02 -6.42859414e-02 -2.82446891e-02 -3.97943258e-02\n",
      " -5.33748530e-02  2.69938167e-02  1.05249524e-01 -5.68088936e-03\n",
      " -2.02537086e-02  1.03446450e-02 -4.30947877e-02 -2.23944280e-02\n",
      " -4.92520221e-02  4.13824171e-02 -9.16641764e-03  1.34460733e-03\n",
      "  5.60998619e-02 -1.33436266e-02  4.69310358e-02 -5.24972230e-02\n",
      " -2.17099907e-03  8.72715637e-02  1.25595376e-01 -1.13614472e-02\n",
      "  4.71230745e-02 -9.23638232e-03 -5.84563352e-02  2.00249087e-02\n",
      "  2.83821183e-03 -5.37681095e-02 -7.72349015e-02 -6.92698061e-02\n",
      "  3.71878520e-02  2.35183211e-03  1.85310002e-03  6.76954491e-03\n",
      " -1.62187040e-01  2.65672617e-02  1.18858349e-02  9.49347205e-03\n",
      " -1.82976797e-02  1.06413119e-01 -3.62664610e-02 -9.56411101e-03\n",
      "  4.40881215e-02 -4.23722379e-02 -5.38012721e-02  7.46657997e-02\n",
      "  2.33970881e-02 -7.15062097e-02  5.75314760e-02  5.88800199e-02\n",
      " -6.18117722e-03 -2.17121933e-02 -5.55384830e-02  4.70577832e-03\n",
      " -4.18391638e-02 -2.91399080e-02  1.01678990e-01 -4.65227142e-02\n",
      "  3.35540920e-02 -5.43864407e-02 -3.07396892e-02 -1.06762433e-02\n",
      "  3.16724516e-02  1.63302838e-03 -1.33365132e-02 -3.35148573e-02\n",
      "  5.81484698e-02  5.13012521e-02 -4.37873341e-02  3.38169225e-02\n",
      " -2.67803781e-02  1.53063377e-02  3.67876142e-02 -6.67284504e-02\n",
      "  3.54193933e-02  2.51234546e-02  2.41673808e-03 -4.79285279e-03\n",
      " -4.29043472e-02  6.29964769e-02 -9.06865075e-02  6.22594468e-02\n",
      "  5.52258305e-02 -2.36000512e-02 -3.68661433e-02 -1.87809430e-33\n",
      "  4.11032811e-02  8.64813291e-03  2.53414139e-02  4.68275473e-02\n",
      "  7.63984472e-02  1.78226773e-02  4.06308845e-02  5.95132709e-02\n",
      " -1.78338699e-02  9.06011090e-04 -1.78787927e-03  2.90886331e-02\n",
      "  7.55503774e-02 -5.41943219e-03  8.76296833e-02 -3.63061614e-02\n",
      "  5.64002991e-02  7.26061910e-02 -5.17653190e-02  8.06604400e-02\n",
      " -2.42196489e-02  5.59877120e-02 -6.95684999e-02 -2.79562711e-03\n",
      "  3.84585955e-03 -6.07175194e-03  3.77779186e-04  4.70043756e-02\n",
      " -1.28901750e-01  7.70587334e-03  4.74532731e-02 -5.28992489e-02\n",
      " -6.23718947e-02  1.17900893e-01 -2.05124074e-04 -2.01159343e-02\n",
      "  8.52318853e-02  4.27709110e-02  2.30801050e-02  1.17159985e-01\n",
      " -1.38473194e-02  7.69087225e-02 -3.31050195e-02  6.57315031e-02\n",
      "  4.47686389e-03  1.09279389e-02 -7.54724210e-03  9.93909091e-02\n",
      "  1.37331756e-02  1.41361523e-02 -7.43477559e-03  5.06562507e-03\n",
      "  2.10279017e-03  5.61701320e-03  3.19643244e-02  4.69731875e-02\n",
      " -3.98252457e-02 -9.89775173e-03 -3.50417607e-02  3.62866698e-03\n",
      " -2.72031873e-02  5.72318546e-02 -2.02290006e-02 -2.52108928e-03\n",
      "  1.39143411e-02  3.58295371e-03 -3.39096636e-02 -3.49196829e-02\n",
      "  1.39149302e-03 -7.02936053e-02 -9.87374038e-03  2.50777267e-02\n",
      " -7.31071383e-02  1.28070116e-02 -6.16107993e-02 -2.36444715e-02\n",
      " -9.73958001e-02  4.12776172e-02  7.41160056e-03  1.57371014e-02\n",
      "  1.23893902e-01 -1.51314982e-03 -2.14239992e-02 -5.46774175e-03\n",
      "  1.40054841e-02  2.32143532e-02  5.94384708e-02  1.01122139e-02\n",
      "  8.27322379e-02 -4.80133016e-03  6.49860650e-02  2.80001722e-02\n",
      "  1.88980624e-02 -2.06836965e-03 -1.86261125e-02 -1.65849290e-08\n",
      " -6.30230606e-02  1.36298491e-02 -6.63025975e-02  9.53269133e-04\n",
      " -5.38821816e-02  1.05319144e-02 -2.63585453e-03 -3.69093269e-02\n",
      "  7.91167766e-02  3.65999825e-02  3.99118774e-02 -1.20852506e-02\n",
      "  1.70982163e-02  1.53303901e-02 -6.99900463e-02  2.58834939e-02\n",
      " -2.00820174e-02  5.37949242e-02 -1.50612066e-03  4.66707759e-02\n",
      " -4.15761136e-02  1.33334007e-02  1.96229424e-02  2.80155595e-02\n",
      " -4.70777461e-03 -4.35106602e-04 -3.15398090e-02 -1.39484825e-02\n",
      "  4.97742295e-02 -1.53716113e-02 -3.03947050e-02  1.15610890e-01\n",
      " -4.83578220e-02 -1.01466082e-01  1.55382184e-02 -5.62506495e-03\n",
      "  2.86372826e-02  5.07289059e-02  7.99969435e-02  4.17711549e-02\n",
      "  6.48046955e-02  2.70731952e-02  5.95427938e-02 -6.86501041e-02\n",
      " -2.03176718e-02  1.20660681e-02 -1.63532142e-03 -6.05990998e-02\n",
      " -5.00846207e-02 -4.93450277e-02 -6.63453341e-02  5.32833710e-02\n",
      "  7.95256868e-02  1.97322089e-02  5.79136722e-02  1.94597486e-02\n",
      " -4.49711122e-02  1.85050704e-02 -8.95425183e-05 -1.15008680e-02\n",
      "  2.00165942e-01  4.28165793e-02  6.74711615e-02  3.72865126e-02]\n"
     ]
    }
   ],
   "source": [
    "vectors = embedding.encode(\"Jai Shree Ganesh\")\n",
    "print(vectors)"
   ]
  },
  {
   "cell_type": "code",
   "execution_count": 25,
   "metadata": {},
   "outputs": [
    {
     "data": {
      "text/plain": [
       "384"
      ]
     },
     "execution_count": 25,
     "metadata": {},
     "output_type": "execute_result"
    }
   ],
   "source": [
    "len(vectors)"
   ]
  },
  {
   "cell_type": "markdown",
   "metadata": {},
   "source": [
    "### Setting up vector DB"
   ]
  },
  {
   "cell_type": "code",
   "execution_count": null,
   "metadata": {},
   "outputs": [],
   "source": []
  },
  {
   "cell_type": "code",
   "execution_count": null,
   "metadata": {},
   "outputs": [],
   "source": []
  },
  {
   "cell_type": "code",
   "execution_count": null,
   "metadata": {},
   "outputs": [],
   "source": []
  },
  {
   "cell_type": "code",
   "execution_count": null,
   "metadata": {},
   "outputs": [],
   "source": [
    "base = ''"
   ]
  }
 ],
 "metadata": {
  "kernelspec": {
   "display_name": "Python 3",
   "language": "python",
   "name": "python3"
  },
  "language_info": {
   "codemirror_mode": {
    "name": "ipython",
    "version": 3
   },
   "file_extension": ".py",
   "mimetype": "text/x-python",
   "name": "python",
   "nbconvert_exporter": "python",
   "pygments_lexer": "ipython3",
   "version": "3.10.12"
  }
 },
 "nbformat": 4,
 "nbformat_minor": 2
}
